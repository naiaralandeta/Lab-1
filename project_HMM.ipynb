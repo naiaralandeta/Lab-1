{
 "cells": [
  {
   "cell_type": "markdown",
   "metadata": {},
   "source": [
    "## Dataset of the HMM"
   ]
  },
  {
   "cell_type": "markdown",
   "metadata": {},
   "source": [
    "The main idea of the project consist in generating an Hidden Markov Model (HMM) with the Kunitz domain (BPTI). For it, we must presiously adquire a data set of protein sequences containing the Kunitz domain. So, we acessed PDB to extract the structures that have the following features:"
   ]
  },
  {
   "cell_type": "markdown",
   "metadata": {},
   "source": [
    "* **Resolution** - We must choose structures with a low resolution, since in the opposite case it could compromise the reliability of our model. The threshold of 3 Å is chosen since it can model the interaction bonds and the distance between two carbons in the backbone. Then a resolution in the range of 0-3 Å has been chosen. Hydrogen bonds are crucial for the formation of secondary structure and protein-protein interactions. The lengths of hydrogen bonds depend on the polar residues that participate in the interaction which is why we use such a variable range. \n",
    "\n",
    "* **PFAM domain** - We include only proteins that match with the PFAM ID PF00014, associated to Kunitz/Bovine pancreatic trypsin inhibitor (BPTI) domain.\n",
    "\n",
    "* **Length of polymer chain** - For this step it is critical to research the literature to be determine the usual length of this type of domain. We include only proteins with length between 50-70 aa.  We include just the domains themselves. Then, we avoid proteins that include the domain in their sequences. "
   ]
  },
  {
   "cell_type": "markdown",
   "metadata": {},
   "source": [
    "**OUR QUERY**: Refinement Resolution = [ 0 - 3 ] AND ( Identifier = \"PF00014\" AND Annotation Type = \"Pfam\" ) AND Total Number of Polymer Residues per Deposited Model = [ 50 - 70 ]\n",
    "\n",
    "After setting the options indicated above in the advanced search of the PDB website, we obtained **28 structures**. We must download the list of proteins setting as Tabular Report Sequence type."
   ]
  },
  {
   "cell_type": "markdown",
   "metadata": {},
   "source": [
    "The command below create a FASTA format (the protein ID, the chain and sequence) with the structures in `kunitz.csv` file. Moreover, we refiltered all the structures composed by a number of residues between 50 and 70. After this filtering process, we got **26 protein sequences** in the FASTA file."
   ]
  },
  {
   "cell_type": "code",
   "execution_count": 60,
   "metadata": {},
   "outputs": [
    {
     "name": "stdout",
     "output_type": "stream",
     "text": [
      "26\n"
     ]
    }
   ],
   "source": [
    "%%bash\n",
    "sed -i 's/\\, / /g' kunitz.csv \n",
    "sed -i 's/\\\"//g' kunitz.csv\n",
    "awk -F ',' '{if ($7 <= 70 && $7 >= 50) print \">\"$1\":\"$3 \"\\n\" $6}' kunitz.csv > kunitz_pdb.fasta\n",
    "grep \">\" kunitz_pdb.fasta | wc -l"
   ]
  },
  {
   "cell_type": "markdown",
   "metadata": {},
   "source": [
    "####  Clustering the sequences"
   ]
  },
  {
   "cell_type": "code",
   "execution_count": null,
   "metadata": {},
   "outputs": [],
   "source": [
    "# ~/blast-2.2.26/bin/blastclust -i kunitz_pdb.fasta -o kunitz.clust -S 99 -L 0.99"
   ]
  },
  {
   "cell_type": "markdown",
   "metadata": {},
   "source": [
    "Blastclust command allows us to cluster sequences according to the sequence identity (-S) and the lenght of the coverage (-L). Where we chose high values to sequence identity (99) and to cpverage (0.99) because we wanted the sequences of each cluster to be as similar as possible.\n",
    "\n",
    "We got 15 clusters but in one of them contains proteins of the APP not the BPTI domain (second line in `kunitz.clust` file)."
   ]
  },
  {
   "cell_type": "markdown",
   "metadata": {},
   "source": [
    "View the clustering result, in the file `kunitz.clust`:"
   ]
  },
  {
   "cell_type": "code",
   "execution_count": 64,
   "metadata": {},
   "outputs": [
    {
     "name": "stdout",
     "output_type": "stream",
     "text": [
      "1BPI:A 4PTI:A 5PTI:A 6PTI:A 9PTI:A \n",
      "2FJZ:A 2FK1:A 2FK2:A 2FMA:A \n",
      "1G6X:A 1K6U:A 1QLQ:A \n",
      "1KNT:A 1KTH:A 2KNT:A \n",
      "6Q61:A \n",
      "3OFW:A \n",
      "5YV7:A \n",
      "1DTX:A \n",
      "1BPT:A \n",
      "1BTI:A \n",
      "1FAN:A \n",
      "1NAG:A \n",
      "7PTI:A \n",
      "8PTI:A \n",
      "5M4V:A \n"
     ]
    }
   ],
   "source": [
    "! cat kunitz.clust"
   ]
  },
  {
   "cell_type": "markdown",
   "metadata": {},
   "source": [
    "#### Choosing the best structure of each cluster"
   ]
  },
  {
   "cell_type": "markdown",
   "metadata": {},
   "source": [
    "In this point we have to choose the **best structure** of each cluster. Then, we have to check which of the structures has the lowest, in this case is the best, resolution. We downloaded from PDB the csv that includes the [resolution](https://www.rcsb.org/search?request=%7B%22query%22%3A%7B%22type%22%3A%22group%22%2C%22logical_operator%22%3A%22and%22%2C%22nodes%22%3A%5B%7B%22type%22%3A%22group%22%2C%22logical_operator%22%3A%22and%22%2C%22nodes%22%3A%5B%7B%22type%22%3A%22group%22%2C%22logical_operator%22%3A%22and%22%2C%22nodes%22%3A%5B%7B%22type%22%3A%22terminal%22%2C%22service%22%3A%22text%22%2C%22parameters%22%3A%7B%22operator%22%3A%22range_closed%22%2C%22negation%22%3Afalse%2C%22value%22%3A%5B0%2C3%5D%2C%22attribute%22%3A%22rcsb_entry_info.resolution_combined%22%7D%2C%22node_id%22%3A0%7D%5D%7D%2C%7B%22type%22%3A%22group%22%2C%22logical_operator%22%3A%22and%22%2C%22nodes%22%3A%5B%7B%22type%22%3A%22group%22%2C%22logical_operator%22%3A%22and%22%2C%22nodes%22%3A%5B%7B%22type%22%3A%22terminal%22%2C%22service%22%3A%22text%22%2C%22parameters%22%3A%7B%22attribute%22%3A%22rcsb_polymer_entity_annotation.annotation_id%22%2C%22negation%22%3Afalse%2C%22operator%22%3A%22exact_match%22%2C%22value%22%3A%22PF00014%22%7D%2C%22node_id%22%3A1%7D%2C%7B%22type%22%3A%22terminal%22%2C%22service%22%3A%22text%22%2C%22parameters%22%3A%7B%22attribute%22%3A%22rcsb_polymer_entity_annotation.type%22%2C%22operator%22%3A%22exact_match%22%2C%22value%22%3A%22Pfam%22%7D%2C%22node_id%22%3A2%7D%5D%2C%22label%22%3A%22nested-attribute%22%7D%5D%7D%2C%7B%22type%22%3A%22group%22%2C%22logical_operator%22%3A%22and%22%2C%22nodes%22%3A%5B%7B%22type%22%3A%22terminal%22%2C%22service%22%3A%22text%22%2C%22parameters%22%3A%7B%22operator%22%3A%22range_closed%22%2C%22negation%22%3Afalse%2C%22value%22%3A%5B50%2C70%5D%2C%22attribute%22%3A%22rcsb_entry_info.deposited_polymer_monomer_count%22%7D%2C%22node_id%22%3A3%7D%5D%7D%5D%2C%22label%22%3A%22text%22%7D%5D%2C%22label%22%3A%22query-builder%22%7D%2C%22return_type%22%3A%22entry%22%2C%22request_options%22%3A%7B%22pager%22%3A%7B%22start%22%3A0%2C%22rows%22%3A100%7D%2C%22scoring_strategy%22%3A%22combined%22%2C%22sort%22%3A%5B%7B%22sort_by%22%3A%22score%22%2C%22direction%22%3A%22desc%22%7D%5D%7D%2C%22request_info%22%3A%7B%22src%22%3A%22ui%22%2C%22query_id%22%3A%220fb8cbb58f80d696e95857c7598870d5%22%7D%7D) and write a script `best_structure.py` to filter for the sequence with the best resolution of **each cluster**."
   ]
  },
  {
   "cell_type": "code",
   "execution_count": 6,
   "metadata": {},
   "outputs": [],
   "source": [
    "! python best_structure.py structures_resolution.csv final_kunitz_clusters.clust > ids_kunitz.txt"
   ]
  },
  {
   "cell_type": "markdown",
   "metadata": {},
   "source": [
    "The file `ids_kunitz.txt` contains a list with the best structures to each cluster."
   ]
  },
  {
   "cell_type": "code",
   "execution_count": 7,
   "metadata": {},
   "outputs": [
    {
     "name": "stdout",
     "output_type": "stream",
     "text": [
      "5PTI:A\n",
      "2FMA:A\n",
      "1G6X:A\n",
      "1KTH:A\n",
      "6Q61:A\n",
      "3OFW:A\n",
      "5YV7:A\n",
      "1DTX:A\n",
      "1BPT:A\n",
      "1BTI:A\n",
      "1FAN:A\n",
      "1NAG:A\n",
      "7PTI:A\n",
      "8PTI:A\n",
      "5M4V:A\n"
     ]
    }
   ],
   "source": [
    "! cat ids_kunitz.txt"
   ]
  },
  {
   "cell_type": "markdown",
   "metadata": {},
   "source": [
    "#### PDBe Fold: Multiple Structure Alignment (MSA)"
   ]
  },
  {
   "cell_type": "markdown",
   "metadata": {},
   "source": [
    "Once we found the all the **best structures** of each cluster. We use the file `ids_kunitz.txt` to do a multiple structure alignment in [PDBe fold](https://www.ebi.ac.uk/msd-srv/ssm/).\n",
    "\n",
    "We obtained a several results. We can highlight three matrices: RMSD, Q-score and Sequence identity.\n",
    "\n",
    "Cross-structure statistics - **RMSD**:\n",
    "\n",
    "![title](img/PDBe-RMSD.png)\n",
    "\n",
    "All the values are good enough, down to 3 Å. We can highlight that both the second row and column, which corresponds to the 2FMA structure, are the highest values.\n",
    "\n",
    "**Q-score**:\n",
    "\n",
    "![title](img/PDBe-Qscore.png)\n",
    "\n",
    "As we well know, the higher the Q-score, the more similarity there will be. It also depends on the size of the structure that we align. In our case, it is a short domain.\n",
    "\n",
    "The worst values are in the second column and row as well (2FMA).\n",
    "\n",
    "**Sequence identity**:\n",
    "\n",
    "![title](img/PDBe-Sequence.png)\n",
    "\n",
    "When we examine the sequence identity, we also realise that something is wrong with the 2FMA structure. The percentages is between 0 to 0.15. Which makes us think that it does not belong to the family of proteins with which it is being compared."
   ]
  },
  {
   "cell_type": "markdown",
   "metadata": {},
   "source": [
    "After the results obtained previously, we have verified that the 2FMA structure and the cluster belongs to the Alzheimer's Amyloid Precursor Protein (APP) but not to the Bovine Pancreatic Trypsin Inhibitor (BPTI).\n",
    "\n",
    "Since the entire cluster (2FMA, 2FJZ, 2FK1 and 2FK2) is responsible for the misalignment since it does not belong to the domain we want, it was decided to remove it."
   ]
  },
  {
   "cell_type": "markdown",
   "metadata": {},
   "source": [
    "We have to change the list of best clusters and remove 2FMA, 2FJZ, 2FK1 and 2FK2 and rerun the PDB fold with the updated list in the file `final_kunitz_clusters.txt`."
   ]
  },
  {
   "cell_type": "code",
   "execution_count": 71,
   "metadata": {},
   "outputs": [
    {
     "name": "stdout",
     "output_type": "stream",
     "text": [
      "5PTI:A \n",
      "1G6X:A \n",
      "1KTH:A \n",
      "6Q61:A \n",
      "3OFW:A \n",
      "5YV7:A \n",
      "1DTX:A \n",
      "1BPT:A \n",
      "1BTI:A \n",
      "1FAN:A \n",
      "1NAG:A \n",
      "7PTI:A \n",
      "8PTI:A \n",
      "5M4V:A \n"
     ]
    }
   ],
   "source": [
    "! cat final_ids_kunitz.txt "
   ]
  },
  {
   "cell_type": "markdown",
   "metadata": {},
   "source": [
    "We repeated the MSA in [PDBe fold](https://www.ebi.ac.uk/msd-srv/ssm/).\n",
    "\n",
    "Cross-structure statistics - **RMSD**:\n",
    "\n",
    "![title](img/PDBe-RMSD-final.png)\n",
    "\n",
    "**Q-score**:\n",
    "\n",
    "![title](img/PDBe-Qscore-final.png)\n",
    "\n",
    "**Sequence identity**:\n",
    "\n",
    "![title](img/PDBe-Sequence-final.png)"
   ]
  },
  {
   "cell_type": "code",
   "execution_count": 86,
   "metadata": {},
   "outputs": [
    {
     "name": "stdout",
     "output_type": "stream",
     "text": [
      ">PDB:5pti:A STRUCTURE OF BOVINE PANCREATIC TRYPSIN INHIBITOR. \n",
      "--rPDFCLEPP-YtGPCKARIIRYFYNAKAGLCQTFVYGGCrA-KRNNFKSAEDCMRTCGga\n",
      "\n",
      ">PDB:1g6x:A ULTRA HIGH RESOLUTION STRUCTURE OF BOVINE PANCREAT\n",
      "--rPDFCLEPP-YaGACRARIIRYFYNAKAGLCQTFVYGGCrA-KRNNFKSAEDCLRTCGga\n",
      "\n",
      ">PDB:1kth:A THE ANISOTROPIC REFINEMENT OF KUNITZ TYPE DOMAIN C\n",
      "--eTDICKLPK-DeGTCRDFILKWYYDPNTKSCARFWYGGCgG-NENKFGSQKECEKVCApv\n",
      "\n",
      ">PDB:6q61:A PORE-MODULATING TOXINS EXPLOIT INHERENT SLOW INACT\n",
      "-drPSLCDLPA-DsGSGTKAEKRIYYNSARKQCLRFDYTGQgG-NENNFRRTYDCARTCLyt\n",
      "\n",
      ">PDB:3ofw:A CRYSTAL STRUCTURE OF RECOMBINANT KUNITZ TYPE SERIN\n",
      "--eASICSEPK-KvGRCKGYFPRFYFDSETGKCTPFIYGGCgG-NGNNFETLHQCRAICR--\n",
      "\n",
      ">PDB:5yv7:A RACEMIC X-RAY STRUCTURE OF CALCICLUDINE\n",
      "wqpPWYCKEPV-RiGSCKKQFSSFYFKWTAKKCLPFLFSGCgG-NANRFQTIGECRKKCLgk\n",
      "\n",
      ">PDB:1dtx:A CRYSTAL STRUCTURE OF ALPHA-DENDROTOXIN FROM THE GR\n",
      "eprRKLCILHR-NpGRCYDKIPAFYYNQKKKQCERFDWSGCgG-NSNRFKTIEECRRTCIg-\n",
      "\n",
      ">PDB:1bpt:A CREVICE-FORMING MUTANTS OF BPTI: CRYSTAL STRUCTURE\n",
      "--rPDFCLEPP-YtGPCKARIIRYFANAKAGLCQTFVYGGCrA-KRNNFKSAEDCMRTCG--\n",
      "\n",
      ">PDB:1bti:A CREVICE-FORMING MUTANTS IN THE RIGID CORE OF BOVIN\n",
      "--rPDFCLEPP-YtGPCKARIIRYAYNAKAGLCQTFVYGGCrA-KRNNFKSAEDCMRTCGga\n",
      "\n",
      ">PDB:1fan:A CREVICE-FORMING MUTANTS IN THE RIGID CORE OF BOVIN\n",
      "--rPDFCLEPP-YtGPCKARIIRYFYNAKAGLCQTFVYGGCrA-KRNNAKSAEDCMRTCGga\n",
      "\n",
      ">PDB:1nag:A CREVICE-FORMING MUTANTS IN THE RIGID CORE OF BOVIN\n",
      "--rPDFCLEPP-YtGPCKARIIRYFYNAKAGLCQTFVYGGCrA-KRGNFKSAEDCMRTCG--\n",
      "\n",
      ">PDB:7pti:A STRUCTURAL EFFECTS INDUCED BY REMOVAL OF A DISULFI\n",
      "--rPDFCLEPP-YtGPCKARIIRYFYNAKAGLAQTFVYGGCrA-KRNNFKSAEDAMRTCGga\n",
      "\n",
      ">PDB:8pti:A CRYSTAL STRUCTURE OF A Y35G MUTANT OF BOVINE PANCR\n",
      "--rPDFCLEPPyT-GPCKARIIRYFYNAKAGLCQTFVGGGC-RaKRNNFKSAEDCMRTCGga\n",
      "\n",
      ">PDB:5m4v:A X-RAY STRUCTURE OF THE MAMBAQUARETIN-1, A SELECTIV\n",
      "--rPSFCNLPV-KpGPCKAFFSAFYYSQKTNKCHSFTYGGCkG-NANRFSTLEKCRRTCVg-\n"
     ]
    }
   ],
   "source": [
    "! cat final_all_aln_kunitz_clusters.fasta.seq"
   ]
  },
  {
   "cell_type": "markdown",
   "metadata": {},
   "source": [
    "The summary of the MSA result is in `MSA_Summary.txt` and the results of PDBe is in `PDBe-results.txt`. "
   ]
  },
  {
   "cell_type": "markdown",
   "metadata": {},
   "source": [
    "## HMM Building"
   ]
  },
  {
   "cell_type": "markdown",
   "metadata": {},
   "source": [
    "#### Preparing data clusters to HMM input\n",
    "\n",
    "We generated a copy from `final_all_aln_kunitz_clusters.fasta.seq` in `bpti_only.fasta` to modify data into capital letters. "
   ]
  },
  {
   "cell_type": "code",
   "execution_count": 93,
   "metadata": {},
   "outputs": [
    {
     "name": "stdout",
     "output_type": "stream",
     "text": [
      ">PDB:5PTI:A\n",
      "--RPDFCLEPP-YTGPCKARIIRYFYNAKAGLCQTFVYGGCRA-KRNNFKSAEDCMRTCGGA\n",
      "\n",
      ">PDB:1G6X:A\n",
      "--RPDFCLEPP-YAGACRARIIRYFYNAKAGLCQTFVYGGCRA-KRNNFKSAEDCLRTCGGA\n",
      "\n",
      ">PDB:1KTH:A\n",
      "--ETDICKLPK-DEGTCRDFILKWYYDPNTKSCARFWYGGCGG-NENKFGSQKECEKVCAPV\n",
      "\n",
      ">PDB:6Q61:A\n",
      "-DRPSLCDLPA-DSGSGTKAEKRIYYNSARKQCLRFDYTGQGG-NENNFRRTYDCARTCLYT\n",
      "\n",
      ">PDB:3OFW:A\n",
      "--EASICSEPK-KVGRCKGYFPRFYFDSETGKCTPFIYGGCGG-NGNNFETLHQCRAICR--\n",
      "\n",
      ">PDB:5YV7:A\n",
      "WQPPWYCKEPV-RIGSCKKQFSSFYFKWTAKKCLPFLFSGCGG-NANRFQTIGECRKKCLGK\n",
      "\n",
      ">PDB:1DTX:A\n",
      "EPRRKLCILHR-NPGRCYDKIPAFYYNQKKKQCERFDWSGCGG-NSNRFKTIEECRRTCIG-\n",
      "\n",
      ">PDB:1BPT:A\n",
      "--RPDFCLEPP-YTGPCKARIIRYFANAKAGLCQTFVYGGCRA-KRNNFKSAEDCMRTCG--\n",
      "\n",
      ">PDB:1BTI:A\n",
      "--RPDFCLEPP-YTGPCKARIIRYAYNAKAGLCQTFVYGGCRA-KRNNFKSAEDCMRTCGGA\n",
      "\n",
      ">PDB:1FAN:A\n",
      "--RPDFCLEPP-YTGPCKARIIRYFYNAKAGLCQTFVYGGCRA-KRNNAKSAEDCMRTCGGA\n",
      "\n",
      ">PDB:1NAG:A\n",
      "--RPDFCLEPP-YTGPCKARIIRYFYNAKAGLCQTFVYGGCRA-KRGNFKSAEDCMRTCG--\n",
      "\n",
      ">PDB:7PTI:A\n",
      "--RPDFCLEPP-YTGPCKARIIRYFYNAKAGLAQTFVYGGCRA-KRNNFKSAEDAMRTCGGA\n",
      "\n",
      ">PDB:8PTI:A\n",
      "--RPDFCLEPPYT-GPCKARIIRYFYNAKAGLCQTFVGGGC-RAKRNNFKSAEDCMRTCGGA\n",
      "\n",
      ">PDB:5M4V:A\n",
      "--RPSFCNLPV-KPGPCKAFFSAFYYSQKTNKCHSFTYGGCKG-NANRFSTLEKCRRTCVG-\n"
     ]
    }
   ],
   "source": [
    "! cp final_all_aln_kunitz_clusters.fasta.seq bpti_only.fasta \n",
    "! awk '{print toupper($1)}' bpti_only.fasta > input_HMM.fasta\n",
    "! cat input_HMM.fasta"
   ]
  },
  {
   "cell_type": "markdown",
   "metadata": {},
   "source": [
    "#### Building a Profile HMM Based on Structural Alignment"
   ]
  },
  {
   "cell_type": "markdown",
   "metadata": {},
   "source": [
    "Using the HMMER package we build the HMM coming from the MSA with the following command:\n",
    "\n",
    "`hmmbuild [outfile] [infile]` - Build a profile HMM from an input multiple alignment."
   ]
  },
  {
   "cell_type": "code",
   "execution_count": 1,
   "metadata": {},
   "outputs": [],
   "source": [
    "# hmmbuild bpti_kunitz.hmm input_HMM.fasta"
   ]
  },
  {
   "cell_type": "markdown",
   "metadata": {},
   "source": [
    "#### Visualizing the model"
   ]
  },
  {
   "cell_type": "markdown",
   "metadata": {},
   "source": [
    "In this file `bpti_kunitz.hmm` we could check the profile HMM (statistical model of multiple sequences alignment, in this case 14 sequences). It captures position-specific information about how conserved each column of the alignment is, and which residues are likely.\n",
    "\n",
    "We can see that the model has 58 matches, it is the length of our alignment, and also we can see all the information about the positions of the transitons (state transition probabilities)."
   ]
  },
  {
   "cell_type": "code",
   "execution_count": 9,
   "metadata": {},
   "outputs": [
    {
     "name": "stdout",
     "output_type": "stream",
     "text": [
      "HMMER3/f [3.1b2 | February 2015]\n",
      "NAME  input_HMM\n",
      "LENG  58\n",
      "ALPH  amino\n",
      "RF    no\n",
      "MM    no\n",
      "CONS  yes\n",
      "CS    no\n",
      "MAP   yes\n",
      "DATE  Tue Dec 22 21:19:33 2020\n",
      "NSEQ  14\n",
      "EFFN  1.760254\n",
      "CKSUM 3868968390\n",
      "STATS LOCAL MSV       -8.8288  0.71895\n",
      "STATS LOCAL VITERBI   -9.1132  0.71895\n",
      "STATS LOCAL FORWARD   -3.8349  0.71895\n",
      "HMM          A        C        D        E        F        G        H        I        K        L        M        N        P        Q        R        S        T        V        W        Y   \n",
      "            m->m     m->i     m->d     i->m     i->i     d->m     d->d\n",
      "  COMPO   2.63348  2.65678  3.16597  2.76129  2.89267  2.52955  3.92526  3.29068  2.51956  2.96800  4.09400  2.90837  3.30591  3.15023  2.72848  2.78161  2.89476  3.21779  4.75114  3.06560\n",
      "          2.68628  4.42235  2.77494  2.73104  3.46364  2.40523  3.72505  3.29364  2.67751  2.69365  4.24700  2.90357  2.73720  3.18106  2.89811  2.37897  2.77530  2.98528  4.58284  3.61513\n",
      "          0.29448  1.38679  5.25883  0.52156  0.90041  0.00000        *\n",
      "      1   3.00537  5.33421  3.12865  1.97142  4.72620  3.66387  3.82224  4.14924  2.36701  3.62868  4.43611  3.16732  2.91009  2.94677  1.27140  2.97941  3.22562  3.76912  5.73562  4.42894      3 r - - -\n",
      "          2.68618  4.42225  2.77519  2.73123  3.46354  2.40513  3.72494  3.29354  2.67741  2.69355  4.24690  2.90347  2.73739  3.18146  2.89801  2.37887  2.77519  2.98518  4.58477  3.61503\n",
      "          0.01604  4.53648  5.25883  0.61958  0.77255  0.48576  0.95510\n",
      "      2   2.27525  4.72791  3.40889  2.92023  4.34157  3.45894  4.03667  3.73652  2.81040  3.37037  4.20078  3.32664  1.38518  3.22313  2.54202  2.79436  2.42690  3.35182  5.61706  4.34111      4 p - - -\n",
      "          2.68618  4.42225  2.77519  2.73123  3.46354  2.40513  3.72494  3.29354  2.67741  2.69355  4.24690  2.90347  2.73739  3.18146  2.89801  2.37887  2.77519  2.98518  4.58477  3.61503\n",
      "          0.01604  4.53648  5.25883  0.61958  0.77255  0.48576  0.95510\n",
      "      3   2.77406  5.13043  1.79099  2.47507  4.40800  3.51595  3.75266  3.87470  2.24107  3.41969  4.20550  3.01448  3.93860  2.88051  3.00787  1.96809  3.01165  3.49928  3.42124  4.21604      5 d - - -\n",
      "          2.68618  4.42225  2.77519  2.73123  3.46354  2.40513  3.72494  3.29354  2.67741  2.69355  4.24690  2.90347  2.73739  3.18146  2.89801  2.37887  2.77519  2.98518  4.58477  3.61503\n",
      "          0.01604  4.53648  5.25883  0.61958  0.77255  0.48576  0.95510\n"
     ]
    }
   ],
   "source": [
    "! head -30 bpti_kunitz.hmm"
   ]
  },
  {
   "cell_type": "markdown",
   "metadata": {},
   "source": [
    "The parameters are all stored as negative natural log probabilities and in the cases of a value is 0 is stored as '*'.\n",
    "\n",
    "**HMM** - Flags the start of the main model section.\n",
    "\n",
    "**COMPO** - The model’s overall average match state emission probabilities, which are used as a background residue composition in the “filter null” model.\n",
    "\n",
    "Example:\n",
    "\n",
    "**Match emission line** -  1   3.00537  5.33421  3.12865  1.97142  4.72620  3.66387  3.82224  4.14924  2.36701  3.62868  4.43611  3.16732  2.91009  2.94677  1.27140  2.97941  3.22562  3.76912  5.73562  4.42894      3 r - - -\n",
    "\n",
    "**Insert emission line** -  2.68618  4.42225  2.77519  2.73123  3.46354  2.40513  3.72494  3.29354  2.67741  2.69355  4.24690  2.90347  2.73739  3.18146  2.89801  2.37887  2.77519  2.98518  4.58477  3.61503\n",
    "\n",
    "**State transition line** -  0.01604  4.53648  5.25883  0.61958  0.77255  0.48576  0.95510\n",
    "(m - match, i - insertion, d - delection)"
   ]
  },
  {
   "cell_type": "markdown",
   "metadata": {},
   "source": [
    "#### Sequence LOGO after profile HMM "
   ]
  },
  {
   "cell_type": "markdown",
   "metadata": {},
   "source": [
    "In [skyling.org](http://skylign.org/) web page we uploaded our `bpti_kunitz.hmm` file to generate the sequence logo."
   ]
  },
  {
   "cell_type": "markdown",
   "metadata": {},
   "source": [
    "**A static image of the logo**\n",
    "![title](img/hmmlogo.png)\n",
    "\n",
    "**A static image of the logo scaled to the theoretical maximum height**\n",
    "![title](img/hmmlogo_maximum_height.png)"
   ]
  },
  {
   "cell_type": "markdown",
   "metadata": {},
   "source": [
    "It can be seen from the sequence logo that the 6 cysteines that are important to keep the structure compact are there. And other sites that are potentially important for protein function, such as tyrosines (Y)."
   ]
  },
  {
   "cell_type": "markdown",
   "metadata": {},
   "source": [
    "## Getting data to test the HMM"
   ]
  },
  {
   "cell_type": "markdown",
   "metadata": {},
   "source": [
    "#### Extracting the positive set"
   ]
  },
  {
   "cell_type": "markdown",
   "metadata": {},
   "source": [
    "We have to create the positive and negative datasets. The positive dataset **includes ALL proteins** that contain Kunitz domains within their structures, while the **negative** dataset is composed of proteins that do **NOT include** it from UniProt. \n",
    "\n",
    "We searched in Uniprot advanced these following properties:\n",
    "    \n",
    "* Cross-reference > Family and domain databases > Pfam (PF00014)\n",
    "* Reviewed > Reviewed\n",
    "    \n",
    "We retrieved **360** entries that contain the kunitz domain."
   ]
  },
  {
   "cell_type": "code",
   "execution_count": 47,
   "metadata": {},
   "outputs": [
    {
     "name": "stdout",
     "output_type": "stream",
     "text": [
      "360\n"
     ]
    }
   ],
   "source": [
    "%%bash\n",
    "grep '>' all_kunitz.fasta | wc -l \n",
    "# head all_kunitz.fasta"
   ]
  },
  {
   "cell_type": "markdown",
   "metadata": {},
   "source": [
    "#### Extracting the negative set"
   ]
  },
  {
   "cell_type": "markdown",
   "metadata": {},
   "source": [
    "The **negative set** was retrieved from UniProt advance search:\n",
    "  * NOT Cross-references -> Family and domain databases -> Pfam (PF00014)\n",
    "  * Reviewed -> Reviewed\n",
    "\n",
    "The search returned **563,612** entries:"
   ]
  },
  {
   "cell_type": "code",
   "execution_count": 48,
   "metadata": {},
   "outputs": [
    {
     "name": "stdout",
     "output_type": "stream",
     "text": [
      "563612\n"
     ]
    }
   ],
   "source": [
    "%%bash\n",
    "grep '>' Not_kunitz.fasta | wc -l\n",
    "# head Not_kunitz.fasta"
   ]
  },
  {
   "cell_type": "markdown",
   "metadata": {},
   "source": [
    "#### Editing the files format of positive and negative set"
   ]
  },
  {
   "cell_type": "markdown",
   "metadata": {},
   "source": [
    "We edited the header of the positive and negative sets that we retrieved from Uniprot. The idea is only get the ID of Uniprot from header and the sequence."
   ]
  },
  {
   "cell_type": "code",
   "execution_count": 54,
   "metadata": {},
   "outputs": [
    {
     "name": "stdout",
     "output_type": "stream",
     "text": [
      "Positive set:\n",
      ">P10646\n",
      "MIYTMKKVHALWASVCLLLNLAPAPLNADSEEDEEHTIITDTELPPLKLMHSFCAFKADD\n",
      "GPCKAIMKRFFFNIFTRQCEEFIYGGCEGNQNRFESLEECKKMCTRDNANRIIKTTLQQE\n",
      "KPDFCFLEEDPGICRGYITRYFYNNQTKQCERFKYGGCLGNMNNFETLEECKNICEDGPN\n",
      "GFQVDNYGTQLNAVNNSLTPQSTKVPSLFEFHGPSWCLTPADRGLCRANENRFYYNSVIG\n",
      "KCRPFKYSGCGGNENNFTSKQECLRACKKGFIQRISKGGLIKTKRKRKKQRVKIAYEEIF\n",
      "VKNM\n",
      ">Q7TQN3\n",
      "MCAPGYHRFWFHWGLLLLLLLEAPLRGLALPPIRYSHAGICPNDMNPNLWVDAQSTCKRE\n",
      "CETDQECETYEKCCPNVCGTKSCVAARYMDVKGKKGPVGMPKEATCDHFMCLQQGSECDI\n",
      "\n",
      "Number of positive set\n",
      "360\n",
      "\n",
      "Negative set:\n",
      ">Q4R4R9\n",
      "MASATDSRYGQKESSDQNFDYMFKILIIGNSSVGKTSFLFRYADDSFTPAFVSTVGIDFK\n",
      "VKTIYRNDKRIKLQIWDTAGQERYRTITTAYYRGAMGFILMYDITNEESFNAVQDWSTQI\n",
      "KTYSWDNAQVLLVGNKCDMEDERVVSSERGRQLADHLGFEFFEASAKDNINVKQTFERLV\n",
      "DVICEKMSESLDTADPAVTGAKQGPQLSDQQVPPHQDCAC\n",
      ">P0C6Y3\n",
      "MASSLKQGVSPKLRDVILVSKDIPEQLCDALFFYTSHNPKDYADAFAVRQKFDRNLQTGK\n",
      "QFKFETVCGLFLLKGVDKITPGVPAKVLKATSKLADLEDIFGVSPFARKYRELLKTACQW\n",
      "SLTVETLDARAQTLDEIFDPTEILWLQVAAKIQVSAMAMRRLVGEVTAKVMDALGSNMSA\n",
      "LFQIFKQQIVRIFQKALAIFENVSELPQRIAALKMAFAKCAKSITVVVMERTLVVREFAG\n",
      "\n",
      "Number of negative set\n",
      "563612\n"
     ]
    }
   ],
   "source": [
    "%%bash\n",
    "\n",
    "awk '{if (substr($0, 1, 1) == \">\"){split($0, a, \"|\"); print \">\" a[2]} else {print $0}}' all_kunitz.fasta > positive_set.fasta\n",
    "awk '{if (substr($0, 1, 1) == \">\"){split($0, a, \"|\"); print \">\" a[2]} else {print $0}}' Not_kunitz.fasta > negative_set.fasta\n",
    "\n",
    "echo 'Positive set:'\n",
    "head positive_set.fasta\n",
    "echo ''\n",
    "echo 'Number of positive set'\n",
    "grep \">\" positive_set.fasta | wc -l\n",
    "echo ''\n",
    "echo 'Negative set:'\n",
    "head negative_set.fasta\n",
    "echo ''\n",
    "echo 'Number of negative set'\n",
    "grep \">\" negative_set.fasta | wc -l"
   ]
  },
  {
   "cell_type": "markdown",
   "metadata": {},
   "source": [
    "#### BLAST search\n",
    "(to find proteins already used HMM building)"
   ]
  },
  {
   "cell_type": "markdown",
   "metadata": {},
   "source": [
    "We must eliminate the sequence to be used for the MSA because they would skew the results. So, we transformed the positive set into a database in order to blast the sequences from MSA to thems."
   ]
  },
  {
   "cell_type": "code",
   "execution_count": null,
   "metadata": {},
   "outputs": [],
   "source": [
    "# formatdb -i positive_set.fasta -p T"
   ]
  },
  {
   "cell_type": "markdown",
   "metadata": {},
   "source": [
    "Then we run BLAST of the 360 sequences, `positive_set.fasta`, with of the pdb and remove all sequences that have and E-value that is higher than a given threshold (0.001)."
   ]
  },
  {
   "cell_type": "code",
   "execution_count": null,
   "metadata": {},
   "outputs": [],
   "source": [
    "# blastpgp -i input_HMM.fasta -d positive_set.fasta -m 8 -e 0.001 -o positive_set.bl8"
   ]
  },
  {
   "cell_type": "markdown",
   "metadata": {},
   "source": [
    "And for identifying the IDs we must select only proteins that have percentage of identity higher than 99% (because we want exact matches). The command for retrieving these IDs into a text file is the following:"
   ]
  },
  {
   "cell_type": "code",
   "execution_count": 10,
   "metadata": {},
   "outputs": [],
   "source": [
    "%%bash\n",
    "awk '{if ($3 >=99) print $2}' positive_set.bl8 | sort -u > ids_to_eliminate.txt"
   ]
  },
  {
   "cell_type": "markdown",
   "metadata": {},
   "source": [
    "Warning: Keeping the sequences to be used for the MSA would skew the results. We must eliminate the sequence to be used for the MSA because them. So, we transformed the positive set into a database in order to blast the sequences from MSA to thems.\n",
    "\n",
    "And in order to eliminate the corresponding header + sequence from the positive set we run the following Python script `negative_extract_seq.py`:"
   ]
  },
  {
   "cell_type": "code",
   "execution_count": 45,
   "metadata": {},
   "outputs": [
    {
     "name": "stdout",
     "output_type": "stream",
     "text": [
      "360\n",
      "356\n"
     ]
    }
   ],
   "source": [
    "%%bash\n",
    "grep \">\" positive_set.fasta | wc -l\n",
    "python negative_extract_seq.py ids_to_eliminate.txt positive_set.fasta > clean_positive_set.fasta\n",
    "grep \">\" clean_positive_set.fasta | wc -l"
   ]
  },
  {
   "cell_type": "markdown",
   "metadata": {},
   "source": [
    "## Preparing data for 2-fold Cross-validation"
   ]
  },
  {
   "cell_type": "markdown",
   "metadata": {},
   "source": [
    "#### Splitting the positive dataset"
   ]
  },
  {
   "cell_type": "markdown",
   "metadata": {},
   "source": [
    "Now we split our positive dataset into two parts after having randomised the protein IDs. Then we check that there are not overlaps with the last command."
   ]
  },
  {
   "cell_type": "code",
   "execution_count": 62,
   "metadata": {},
   "outputs": [],
   "source": [
    "%%bash\n",
    "grep \">\" clean_positive_set.fasta | sed 's/>//' | sort -R > random_positive.txt\n",
    "head -n 178 random_positive.txt > set_r1_positive.txt\n",
    "tail -n +179 random_positive.txt > set_r2_positive.txt"
   ]
  },
  {
   "cell_type": "code",
   "execution_count": 63,
   "metadata": {},
   "outputs": [
    {
     "name": "stdout",
     "output_type": "stream",
     "text": [
      "178 set_r1_positive.txt\n"
     ]
    }
   ],
   "source": [
    "! wc -l set_r1_positive.txt"
   ]
  },
  {
   "cell_type": "code",
   "execution_count": 64,
   "metadata": {},
   "outputs": [
    {
     "name": "stdout",
     "output_type": "stream",
     "text": [
      "178 set_r2_positive.txt\n"
     ]
    }
   ],
   "source": [
    "! wc -l set_r2_positive.txt"
   ]
  },
  {
   "cell_type": "markdown",
   "metadata": {},
   "source": [
    "#### Creating fasta file to set_r1_positive and set_r2_positive"
   ]
  },
  {
   "cell_type": "markdown",
   "metadata": {},
   "source": [
    "The dataset is not too large, so we can use the same (slow) script above to extract the sequences from the positive set using the list of IDs.\n",
    "\n",
    "So only the protein in the list is selected but the other half is left."
   ]
  },
  {
   "cell_type": "code",
   "execution_count": 67,
   "metadata": {},
   "outputs": [
    {
     "name": "stdout",
     "output_type": "stream",
     "text": [
      ">Q7TQN3\n",
      "MCAPGYHRFWFHWGLLLLLLLEAPLRGLALPPIRYSHAGICPNDMNPNLWVDAQSTCKRE\n",
      "CETDQECETYEKCCPNVCGTKSCVAARYMDVKGKKGPVGMPKEATCDHFMCLQQGSECDI\n",
      "WDGQPVCKCKDRCEKEPSFTCASDGLTYYNRCFMDAEACSKGITLSVVTCRYHFTWPNTS\n",
      "PPPPETTVHPTTASPETLGLDMAAPALLNHPVHQSVTVGETVSFLCDVVGRPRPELTWEK\n",
      "QLEDRENVVMRPNHVRGNVVVTNIAQLVIYNVQPQDAGIYTCTARNVAGVLRADFPLSVV\n",
      "RGGQARATSESSLNGTAFPATECLKPPDSEDCGEEQTRWHFDAQANNCLTFTFGHCHHNL\n",
      "NHFETYEACMLACMSGPLAICSLPALQGPCKAYVPRWAYNSQTGLCQSFVYGGCEGNGNN\n",
      "FESREACEESCPFPRGNQHCRACKPRQKLVTSFCRSDFVILGRVSELTEEQDSGRALVTV\n",
      "DEVLKDEKMGLKFLGREPLEVTLLHVDWTCPCPNVTVGETPLIIMGEVDGGMAMLRPDSF\n",
      "178\n",
      "\n",
      ">P10646\n",
      "MIYTMKKVHALWASVCLLLNLAPAPLNADSEEDEEHTIITDTELPPLKLMHSFCAFKADD\n",
      "GPCKAIMKRFFFNIFTRQCEEFIYGGCEGNQNRFESLEECKKMCTRDNANRIIKTTLQQE\n",
      "KPDFCFLEEDPGICRGYITRYFYNNQTKQCERFKYGGCLGNMNNFETLEECKNICEDGPN\n",
      "GFQVDNYGTQLNAVNNSLTPQSTKVPSLFEFHGPSWCLTPADRGLCRANENRFYYNSVIG\n",
      "KCRPFKYSGCGGNENNFTSKQECLRACKKGFIQRISKGGLIKTKRKRKKQRVKIAYEEIF\n",
      "VKNM\n",
      ">P00981\n",
      "SGHLLLLLGLLTLWAELTPVSGAAKYCKLPLRIGPCKRKIPSFYYKWKAKQCLPFDYSGC\n",
      "GGNANRFKTIEECRRTCVG\n",
      "178\n"
     ]
    }
   ],
   "source": [
    "%%bash\n",
    "python extract_seq.py set_r1_positive.txt clean_positive_set.fasta > set_r1_positive.fasta\n",
    "python extract_seq.py set_r2_positive.txt clean_positive_set.fasta > set_r2_positive.fasta\n",
    "\n",
    "head set_r1_positive.fasta\n",
    "grep '>' set_r1_positive.fasta | wc -l\n",
    "echo ''\n",
    "head set_r2_positive.fasta\n",
    "grep '>' set_r2_positive.fasta | wc -l"
   ]
  },
  {
   "cell_type": "markdown",
   "metadata": {},
   "source": [
    "#### Splitting the negative set"
   ]
  },
  {
   "cell_type": "markdown",
   "metadata": {},
   "source": [
    "We generate a file containing **only the protein ID** of all 563612 **negative** Swissprot entries: using a pipeline that takes , is used to The negative dataset needs less analysis. From the FASTA file containing all the 563612 entries the headers were reduced to the protein ID using the first command below. Then we extracted the protein IDs and we sorted them randomly. We splited the list of IDs in two half."
   ]
  },
  {
   "cell_type": "code",
   "execution_count": 66,
   "metadata": {},
   "outputs": [
    {
     "name": "stdout",
     "output_type": "stream",
     "text": [
      ">Q4R4R9\n",
      "MASATDSRYGQKESSDQNFDYMFKILIIGNSSVGKTSFLFRYADDSFTPAFVSTVGIDFK\n",
      "VKTIYRNDKRIKLQIWDTAGQERYRTITTAYYRGAMGFILMYDITNEESFNAVQDWSTQI\n",
      "KTYSWDNAQVLLVGNKCDMEDERVVSSERGRQLADHLGFEFFEASAKDNINVKQTFERLV\n",
      "DVICEKMSESLDTADPAVTGAKQGPQLSDQQVPPHQDCAC\n",
      ">P0C6Y3\n",
      "MASSLKQGVSPKLRDVILVSKDIPEQLCDALFFYTSHNPKDYADAFAVRQKFDRNLQTGK\n",
      "QFKFETVCGLFLLKGVDKITPGVPAKVLKATSKLADLEDIFGVSPFARKYRELLKTACQW\n",
      "SLTVETLDARAQTLDEIFDPTEILWLQVAAKIQVSAMAMRRLVGEVTAKVMDALGSNMSA\n",
      "LFQIFKQQIVRIFQKALAIFENVSELPQRIAALKMAFAKCAKSITVVVMERTLVVREFAG\n",
      "\n",
      "563612\n"
     ]
    }
   ],
   "source": [
    "%%bash\n",
    "head negative_set.fasta\n",
    "echo ''\n",
    "grep \">\" negative_set.fasta | wc -l"
   ]
  },
  {
   "cell_type": "markdown",
   "metadata": {},
   "source": [
    "Confirming that the fasta contains **only the ID and the sequence** 563612/2 = 281806 so we need to generate two files each containing **281806** sequences. We can do this the same way as before with the positives. First we generate a **randomly** sorted .txt containing the seq ID **only** and then we split the .txt into 2 files."
   ]
  },
  {
   "cell_type": "code",
   "execution_count": 2,
   "metadata": {},
   "outputs": [
    {
     "name": "stdout",
     "output_type": "stream",
     "text": [
      "281806 set_r1_negative.txt\n",
      "281806 set_r2_negative.txt\n"
     ]
    }
   ],
   "source": [
    "%%bash\n",
    "grep \">\" negative_set.fasta | sed 's/>//' | sort -R > random_negative.txt\n",
    "head -n 281806 random_negative.txt > set_r1_negative.txt \n",
    "tail -n +281807 random_negative.txt > set_r2_negative.txt\n",
    "\n",
    "wc -l set_r1_negative.txt\n",
    "wc -l set_r2_negative.txt"
   ]
  },
  {
   "cell_type": "markdown",
   "metadata": {},
   "source": [
    "Extracting sequences from the protein IDs of such a large file would take too much time with the script we used for the positive ones. A better idea is to download pyfasta. After having installed pyfasta we can use these commands to extract the sequences:"
   ]
  },
  {
   "cell_type": "code",
   "execution_count": 5,
   "metadata": {},
   "outputs": [],
   "source": [
    "%%bash\n",
    "# pip install pyfasta\n",
    "# pyfasta extract --header --fasta negative_set.fasta --file set_r1_negative.txt > set_r1_negative.fasta\n",
    "# pyfasta extract --header --fasta negative_set.fasta --file setr2_negative.txt > set_r2_negative.fasta\n",
    "\n",
    "# OR\n",
    "\n",
    "# python extract_seq.py set_r1_negative.txt negative_set.fasta > set_r1_negative.fasta\n",
    "# python extract_seq.py set_r2_negative.txt negative_set.fasta > set_r2_negative.fasta"
   ]
  },
  {
   "cell_type": "code",
   "execution_count": 9,
   "metadata": {},
   "outputs": [
    {
     "name": "stdout",
     "output_type": "stream",
     "text": [
      ">Q4R4R9\n",
      "MASATDSRYGQKESSDQNFDYMFKILIIGNSSVGKTSFLFRYADDSFTPAFVSTVGIDFK\n",
      "VKTIYRNDKRIKLQIWDTAGQERYRTITTAYYRGAMGFILMYDITNEESFNAVQDWSTQI\n",
      "KTYSWDNAQVLLVGNKCDMEDERVVSSERGRQLADHLGFEFFEASAKDNINVKQTFERLV\n",
      "DVICEKMSESLDTADPAVTGAKQGPQLSDQQVPPHQDCAC\n",
      ">P0C6Y3\n",
      "MASSLKQGVSPKLRDVILVSKDIPEQLCDALFFYTSHNPKDYADAFAVRQKFDRNLQTGK\n",
      "QFKFETVCGLFLLKGVDKITPGVPAKVLKATSKLADLEDIFGVSPFARKYRELLKTACQW\n",
      "SLTVETLDARAQTLDEIFDPTEILWLQVAAKIQVSAMAMRRLVGEVTAKVMDALGSNMSA\n",
      "LFQIFKQQIVRIFQKALAIFENVSELPQRIAALKMAFAKCAKSITVVVMERTLVVREFAG\n",
      "281806\n",
      "\n",
      ">B2RQC6\n",
      "MAALVLEDGSVLQGRPFGAAVSTAGEVVFQTGMVGYPEALTDPSYKAQILVLTYPLIGNY\n",
      "GIPSDEEDEFGLSKWFESSEIHVAGLVVGECCPTPSHWSANCTLHEWLQQRGIPGLQGVD\n",
      "TRELTKKLREQGSLLGKLVQKGTEPSALPFVDPNARPLAPEVSIKTPRVFNAGGAPRICA\n",
      "LDCGLKYNQIRCLCQLGAEVTVVPWDHELDSQKYDGLFLSNGPGDPASYPGVVSTLSRVL\n",
      "SEPNPRPVFGICLGHQLLALAIGAKTYKMRYGNRGHNQPCLLVGTGRCFLTSQNHGFAVD\n",
      "ADSLPAGWAPLFTNANDCSNEGIVHDSLPFFSVQFHPEHRAGPSDMELLFDVFLETVREA\n",
      "AAGNIGGQTVRERLAQRLCPPELPIPGSGLPPPRKVLILGSGGLSIGQAGEFDYSGSQAI\n",
      "KALKEENIQTLLINPNIATVQTSQGLADKVYFLPITLHYVTQVIRNERPDGVLLTFGGQT\n",
      "ALNCGVELTKAGVLARYGVRVLGTPVETIELTEDRRAFAARMAEIGEHVAPSEAANSLEQ\n",
      "281806\n"
     ]
    }
   ],
   "source": [
    "%%bash\n",
    "head set_r1_negative.fasta\n",
    "grep \">\" set_r1_negative.fasta | wc -l \n",
    "\n",
    "echo '' \n",
    "\n",
    "head set_r2_negative.fasta\n",
    "grep '>' set_r2_negative.fasta | wc -l "
   ]
  },
  {
   "cell_type": "markdown",
   "metadata": {},
   "source": [
    "The command takes the FASTA file as input and another file containing the list of identifiers and it returns another file with the extracted sequences."
   ]
  },
  {
   "cell_type": "markdown",
   "metadata": {},
   "source": [
    "## Performance testing by 2-fold Cross-validation"
   ]
  },
  {
   "cell_type": "markdown",
   "metadata": {},
   "source": [
    "#### HMM search - Search a protein profile HMM against proteins sequence database."
   ]
  },
  {
   "cell_type": "markdown",
   "metadata": {},
   "source": [
    "It takes as input an hmmfile and a FASTA sequence input.\n",
    "\n",
    "Search the profile `bpti-kunitz.hmm` against protein sequences database `set_r1_positive.fasta`, `set_r2_positive.fasta`, `set_r1_negative.fasta` or `set_r2_negative.fasta`.   \n",
    "\n",
    "To facilitate the file parsing we used the following options:\n",
    "\n",
    "* -Z this argument produces E-values that are comparable among different runs because it makes them independent from the dataset size.\n",
    "* --tblout : tabular output file\n",
    "* --noali : omit the alignment section from the input. We might reduce the output volume, because we only want the E-value for classification\n",
    "* --max : Turn all heuristic filters off (less speed, more power)"
   ]
  },
  {
   "cell_type": "code",
   "execution_count": null,
   "metadata": {},
   "outputs": [],
   "source": [
    "hmmsearch -h | cat"
   ]
  },
  {
   "cell_type": "markdown",
   "metadata": {},
   "source": [
    "##### First positive training set:"
   ]
  },
  {
   "cell_type": "code",
   "execution_count": null,
   "metadata": {},
   "outputs": [],
   "source": [
    "# hmmsearch -Z 1 --noali --max --tblout training_r1_positive.hits bpti-kunitz.hmm set_r1_positive.fasta"
   ]
  },
  {
   "cell_type": "markdown",
   "metadata": {},
   "source": [
    "##### First positive testing set:"
   ]
  },
  {
   "cell_type": "code",
   "execution_count": null,
   "metadata": {},
   "outputs": [],
   "source": [
    "# hmmsearch -Z 1 --noali --max --tblout testing_r2_positive.hits bpti-kunitz.hmm set_r2_positive.fasta"
   ]
  },
  {
   "cell_type": "markdown",
   "metadata": {},
   "source": [
    "##### Second negative training set:"
   ]
  },
  {
   "cell_type": "code",
   "execution_count": null,
   "metadata": {},
   "outputs": [],
   "source": [
    "# hmmsearch -Z 1 --noali --max --tblout training_r1_negative.hits bpti-kunitz.hmm set_r1_negative.fasta"
   ]
  },
  {
   "cell_type": "markdown",
   "metadata": {},
   "source": [
    "##### Second negative testing set:"
   ]
  },
  {
   "cell_type": "code",
   "execution_count": 26,
   "metadata": {},
   "outputs": [],
   "source": [
    "# hmmsearch -Z 1 --noali --max --tblout testing_r2_negative.hits bpti-kunitz.hmm set_r2_negative.fasta"
   ]
  },
  {
   "cell_type": "markdown",
   "metadata": {},
   "source": [
    "#### Generating one file that contains only the e-value, the name of the sequence and the type of the sequence:"
   ]
  },
  {
   "cell_type": "markdown",
   "metadata": {},
   "source": [
    "This serves to find the optimal threshold to be able to distinguish between negatives (0) and positives (1) as classified by PFAM/Uniprot. So we extract:\n",
    "\n",
    "* the protein ID \\$1,\n",
    "* E-value (of the single domain) from \\$8\n",
    "\n",
    "And we add the lable 1 (pos) or 0 (neg) to the corresponding entries.\n",
    "\n",
    "**Positives training and testing set**:"
   ]
  },
  {
   "cell_type": "code",
   "execution_count": 4,
   "metadata": {},
   "outputs": [
    {
     "name": "stdout",
     "output_type": "stream",
     "text": [
      "The positives r1 set:\n",
      "Q868Z9 5e-21 1\n",
      "O54819 3.2e-25 1\n",
      "178 training_r1_positive.out\n",
      "\n",
      "The positives r2 set:\n",
      "O76840 2.8e-22 1\n",
      "Q02445 9.8e-26 1\n",
      "178 testing_r2_positive.out\n"
     ]
    }
   ],
   "source": [
    "%%bash\n",
    "grep -v \"^#\" training_r1_positive.hits | awk '{print $1, $8, 1}'> training_r1_positive.out\n",
    "grep -v \"^#\" testing_r2_positive.hits | awk '{print $1, $8, 1}'> testing_r2_positive.out\n",
    "\n",
    "echo \"The positives r1 set:\"\n",
    "head -2 training_r1_positive.out\n",
    "wc -l training_r1_positive.out\n",
    "\n",
    "echo ''\n",
    "echo \"The positives r2 set:\"\n",
    "head -2 testing_r2_positive.out\n",
    "wc -l testing_r2_positive.out"
   ]
  },
  {
   "cell_type": "markdown",
   "metadata": {},
   "source": [
    "**Negatives training and testing set**:"
   ]
  },
  {
   "cell_type": "code",
   "execution_count": 3,
   "metadata": {},
   "outputs": [
    {
     "name": "stdout",
     "output_type": "stream",
     "text": [
      "The negatives r1 set:\n",
      "P84555 7.8e-08 0\n",
      "P84556 7.1e-07 0\n",
      "136061 training_r1_negative.out\n",
      "\n",
      "The negatives r2 set:\n",
      "P0DJ63 1.5e-08 0\n",
      "P83605 4.9e-08 0\n",
      "136445 testing_r2_negative.out\n"
     ]
    }
   ],
   "source": [
    "%%bash\n",
    "grep -v \"^#\" training_r1_negative.hits | awk '{print $1,$8,0}'> training_r1_negative.out\n",
    "grep -v \"^#\" testing_r2_negative.hits | awk '{print $1,$8,0}'> testing_r2_negative.out\n",
    "\n",
    "echo 'The negatives r1 set:'\n",
    "head -2 training_r1_negative.out\n",
    "wc -l training_r1_negative.out\n",
    "\n",
    "echo ''\n",
    "echo 'The negatives r2 set:'\n",
    "head -2 testing_r2_negative.out\n",
    "wc -l testing_r2_negative.out"
   ]
  },
  {
   "cell_type": "markdown",
   "metadata": {},
   "source": [
    "#### Recovering IDs with an E-value above 10"
   ]
  },
  {
   "cell_type": "markdown",
   "metadata": {},
   "source": [
    "Each file contains however only elements that had an e-value <= 10. Now we need to generate a file with the same layout.\n",
    "\n",
    "This **obviously** does not need to be done with the positive set as none of the evalues returned are higher than 10 ;-)"
   ]
  },
  {
   "cell_type": "code",
   "execution_count": 7,
   "metadata": {},
   "outputs": [
    {
     "name": "stdout",
     "output_type": "stream",
     "text": [
      "The missing negatives r1 set:\n",
      "145745\n",
      "The missing negatives r2 set:\n",
      "145361\n"
     ]
    }
   ],
   "source": [
    "%%bash\n",
    "comm <(grep \"^>\" set_r2_negative.fasta | sed 's/>//' | sort) < (awk '{print $1}' testing_r2_negative.out | sort) | awk -F '\\t' '{if ($1 != \"\") print $1, 10, 0}' > missing_negative_r2.out\n",
    "comm <(grep \"^>\" set_r1_negative.fasta | sed 's/>//' | sort) < (awk '{print $1}' training_r1_negative.out | sort) | awk -F '\\t' '{if ($1 != \"\") print $1, 10, 0}' > missing_negative_r1.out\n",
    "\n",
    "echo 'The missing negatives r1 set:'\n",
    "cat missing_negative_r1.out | wc -l\n",
    "echo 'The missing negatives r2 set:'\n",
    "cat missing_negative_r2.out | wc -l"
   ]
  },
  {
   "cell_type": "markdown",
   "metadata": {},
   "source": [
    "#### Checking weather everything sums up and makes sense:\n",
    "\n",
    "Remember the total amount of negative sequences downloaded was 563612!"
   ]
  },
  {
   "cell_type": "code",
   "execution_count": 9,
   "metadata": {},
   "outputs": [
    {
     "name": "stdout",
     "output_type": "stream",
     "text": [
      "Negative Set 1\n",
      "145745 missing_negative_r1.out\n",
      "136061 training_r1_negative.out\n",
      "\n",
      "Negative Set 2\n",
      "145361 missing_negative_r2.out\n",
      "136445 testing_r2_negative.out\n"
     ]
    }
   ],
   "source": [
    "%%bash\n",
    "echo \"Negative Set 1\"\n",
    "wc -l missing_negative_r1.out\n",
    "wc -l training_r1_negative.out\n",
    "\n",
    "echo ''\n",
    "echo \"Negative Set 2\"\n",
    "wc -l missing_negative_r2.out\n",
    "wc -l testing_r2_negative.out"
   ]
  },
  {
   "cell_type": "code",
   "execution_count": 8,
   "metadata": {},
   "outputs": [
    {
     "name": "stdout",
     "output_type": "stream",
     "text": [
      "Sum negative set 1:\n",
      "281806\n",
      "\n",
      "Sum negative set 2:\n",
      "281806\n",
      "\n",
      "Total negatives\n",
      "563612\n"
     ]
    }
   ],
   "source": [
    "%%bash\n",
    "echo 'Sum negative set 1:'\n",
    "expr 145745 + 136061 \n",
    "\n",
    "echo ''\n",
    "echo 'Sum negative set 2:'\n",
    "expr 145361 + 136445\n",
    "\n",
    "echo ''\n",
    "echo 'Total negatives'\n",
    "expr 281806 + 281806"
   ]
  },
  {
   "cell_type": "markdown",
   "metadata": {},
   "source": [
    "#### The sum checks out every thing should be alright"
   ]
  },
  {
   "cell_type": "code",
   "execution_count": 12,
   "metadata": {},
   "outputs": [
    {
     "name": "stdout",
     "output_type": "stream",
     "text": [
      "\n",
      "Missing and Training negative set r1:\n",
      "281806 both_r1.out\n",
      "A0A023GPI8 10 0\n",
      "A0A023PXL1 10 0\n",
      "A0A023PXL7 10 0\n",
      "\n",
      "Missing and Testing negative set r2:\n",
      "281806 both_r2.out\n",
      "A0A009IHW8 10 0\n",
      "A0A023I4C8 10 0\n",
      "A0A023I4D6 10 0\n"
     ]
    }
   ],
   "source": [
    "%%bash\n",
    "cat missing_negative_r1.out training_r1_negative.out > both_r1.out\n",
    "cat missing_negative_r2.out testing_r2_negative.out > both_r2.out\n",
    "\n",
    "echo ''\n",
    "echo \"Missing and Training negative set r1:\"\n",
    "wc -l both_r1.out\n",
    "head -3 both_r1.out\n",
    "\n",
    "echo ''\n",
    "echo \"Missing and Testing negative set r2:\"\n",
    "wc -l both_r2.out\n",
    "head -3 both_r2.out"
   ]
  },
  {
   "cell_type": "markdown",
   "metadata": {},
   "source": [
    "The py script below will be used to test the performance."
   ]
  },
  {
   "cell_type": "code",
   "execution_count": 27,
   "metadata": {},
   "outputs": [
    {
     "name": "stdout",
     "output_type": "stream",
     "text": [
      "281984\n"
     ]
    }
   ],
   "source": [
    "! cat both_r1.out training_r1_positive.out | wc -l"
   ]
  },
  {
   "cell_type": "code",
   "execution_count": 1,
   "metadata": {},
   "outputs": [
    {
     "name": "stdout",
     "output_type": "stream",
     "text": [
      "P84555 FP\n",
      "P84556 FP\n",
      "P36235 FP\n",
      "P71089 FP\n",
      "Q91736 FP\n",
      "Q91571 FP\n",
      "Q91694 FP\n",
      "Q91845 FP\n",
      "Q9PS05 FP\n",
      "Threshold: 1 \n",
      "ACC: 0.7228566159782115 \n",
      "Matthews (MCC): 0.04052518157303454 \n",
      "TPR: 1.0 \n",
      "FPR: 0.2773184389260697 \n",
      "Positive pred val: 0.0022724951486058627 \n",
      "The Matrix (CM): [[178.0, 78150.0], [0.0, 203656.0]] \n",
      "\n",
      "P84555 FP\n",
      "P84556 FP\n",
      "P36235 FP\n",
      "P71089 FP\n",
      "Q91736 FP\n",
      "Q91571 FP\n",
      "Q91694 FP\n",
      "Q91845 FP\n",
      "Q9PS05 FP\n",
      "Threshold: 0.1 \n",
      "ACC: 0.9634837437585111 \n",
      "Matthews (MCC): 0.12795285557621297 \n",
      "TPR: 1.0 \n",
      "FPR: 0.036539321377117594 \n",
      "Positive pred val: 0.016992840095465395 \n",
      "The Matrix (CM): [[178.0, 10297.0], [0.0, 271509.0]] \n",
      "\n",
      "P84555 FP\n",
      "P84556 FP\n",
      "P36235 FP\n",
      "P71089 FP\n",
      "Q91736 FP\n",
      "Q91571 FP\n",
      "Q91694 FP\n",
      "Q91845 FP\n",
      "Q9PS05 FP\n",
      "Threshold: 0.01 \n",
      "ACC: 0.9966948479346346 \n",
      "Matthews (MCC): 0.3997874562878267 \n",
      "TPR: 1.0 \n",
      "FPR: 0.003307239732298106 \n",
      "Positive pred val: 0.16036036036036036 \n",
      "The Matrix (CM): [[178.0, 932.0], [0.0, 280874.0]] \n",
      "\n",
      "P84555 FP\n",
      "P84556 FP\n",
      "P36235 FP\n",
      "P71089 FP\n",
      "Q91736 FP\n",
      "Q91571 FP\n",
      "Q91694 FP\n",
      "Q91845 FP\n",
      "Q9PS05 FP\n",
      "Threshold: 0.001 \n",
      "ACC: 0.9997021107580571 \n",
      "Matthews (MCC): 0.8241279041365966 \n",
      "TPR: 1.0 \n",
      "FPR: 0.00029807740076506534 \n",
      "Positive pred val: 0.6793893129770993 \n",
      "The Matrix (CM): [[178.0, 84.0], [0.0, 281722.0]] \n",
      "\n",
      "P84555 FP\n",
      "P84556 FP\n",
      "P36235 FP\n",
      "P71089 FP\n",
      "Q91736 FP\n",
      "Q91571 FP\n",
      "Q91694 FP\n",
      "Q91845 FP\n",
      "Q9PS05 FP\n",
      "Threshold: 0.0001 \n",
      "ACC: 0.999921981389015 \n",
      "Matthews (MCC): 0.9433612879365454 \n",
      "TPR: 1.0 \n",
      "FPR: 7.806789067656473e-05 \n",
      "Positive pred val: 0.89 \n",
      "The Matrix (CM): [[178.0, 22.0], [0.0, 281784.0]] \n",
      "\n",
      "P84555 FP\n",
      "P84556 FP\n",
      "P36235 FP\n",
      "P71089 FP\n",
      "D3GGZ8 FN\n",
      "Threshold: 1e-05 \n",
      "ACC: 0.9999822684975034 \n",
      "Matthews (MCC): 0.986098027625423 \n",
      "TPR: 0.9943820224719101 \n",
      "FPR: 1.4194161941193587e-05 \n",
      "Positive pred val: 0.9779005524861878 \n",
      "The Matrix (CM): [[177.0, 4.0], [1.0, 281802.0]] \n",
      "\n",
      "P84555 FP\n",
      "P84556 FP\n",
      "O62247 FN\n",
      "D3GGZ8 FN\n",
      "Threshold: 1e-06 \n",
      "ACC: 0.9999858147980027 \n",
      "Matthews (MCC): 0.9887569478628496 \n",
      "TPR: 0.9887640449438202 \n",
      "FPR: 7.0970809705967936e-06 \n",
      "Positive pred val: 0.9887640449438202 \n",
      "The Matrix (CM): [[176.0, 2.0], [2.0, 281804.0]] \n",
      "\n",
      "P84555 FP\n",
      "O62247 FN\n",
      "D3GGZ8 FN\n",
      "Threshold: 1e-07 \n",
      "ACC: 0.999989361098502 \n",
      "Matthews (MCC): 0.991547911914058 \n",
      "TPR: 0.9887640449438202 \n",
      "FPR: 3.5485404852983968e-06 \n",
      "Positive pred val: 0.9943502824858758 \n",
      "The Matrix (CM): [[176.0, 1.0], [2.0, 281805.0]] \n",
      "\n",
      "O62247 FN\n",
      "D3GGZ8 FN\n",
      "Threshold: 1e-08 \n",
      "ACC: 0.9999929073990014 \n",
      "Matthews (MCC): 0.994362623822484 \n",
      "TPR: 0.9887640449438202 \n",
      "FPR: 0.0 \n",
      "Positive pred val: 1.0 \n",
      "The Matrix (CM): [[176.0, 0.0], [2.0, 281806.0]] \n",
      "\n",
      "O62247 FN\n",
      "D3GGZ8 FN\n",
      "Threshold: 1e-09 \n",
      "ACC: 0.9999929073990014 \n",
      "Matthews (MCC): 0.994362623822484 \n",
      "TPR: 0.9887640449438202 \n",
      "FPR: 0.0 \n",
      "Positive pred val: 1.0 \n",
      "The Matrix (CM): [[176.0, 0.0], [2.0, 281806.0]] \n",
      "\n",
      "O62247 FN\n",
      "D3GGZ8 FN\n",
      "Threshold: 1e-10 \n",
      "ACC: 0.9999929073990014 \n",
      "Matthews (MCC): 0.994362623822484 \n",
      "TPR: 0.9887640449438202 \n",
      "FPR: 0.0 \n",
      "Positive pred val: 1.0 \n",
      "The Matrix (CM): [[176.0, 0.0], [2.0, 281806.0]] \n",
      "\n",
      "P86963 FN\n",
      "O62247 FN\n",
      "D3GGZ8 FN\n",
      "Threshold: 1e-11 \n",
      "ACC: 0.999989361098502 \n",
      "Matthews (MCC): 0.9915319466997918 \n",
      "TPR: 0.9831460674157303 \n",
      "FPR: 0.0 \n",
      "Positive pred val: 1.0 \n",
      "The Matrix (CM): [[175.0, 0.0], [3.0, 281806.0]] \n",
      "\n",
      "Q9BQY6 FN\n",
      "P86963 FN\n",
      "O62247 FN\n",
      "D3GGZ8 FN\n",
      "Threshold: 1e-12 \n",
      "ACC: 0.9999858147980027 \n",
      "Matthews (MCC): 0.9886931854182947 \n",
      "TPR: 0.9775280898876404 \n",
      "FPR: 0.0 \n",
      "Positive pred val: 1.0 \n",
      "The Matrix (CM): [[174.0, 0.0], [4.0, 281806.0]] \n",
      "\n",
      "Q9BQY6 FN\n",
      "P86963 FN\n",
      "O62247 FN\n",
      "D3GGZ8 FN\n",
      "Threshold: 1e-13 \n",
      "ACC: 0.9999858147980027 \n",
      "Matthews (MCC): 0.9886931854182947 \n",
      "TPR: 0.9775280898876404 \n",
      "FPR: 0.0 \n",
      "Positive pred val: 1.0 \n",
      "The Matrix (CM): [[174.0, 0.0], [4.0, 281806.0]] \n",
      "\n",
      "P86964 FN\n",
      "P26226 FN\n",
      "Q9BQY6 FN\n",
      "P86963 FN\n",
      "O62247 FN\n",
      "D3GGZ8 FN\n",
      "Threshold: 1e-14 \n",
      "ACC: 0.9999787221970041 \n",
      "Matthews (MCC): 0.982991130025557 \n",
      "TPR: 0.9662921348314607 \n",
      "FPR: 0.0 \n",
      "Positive pred val: 1.0 \n",
      "The Matrix (CM): [[172.0, 0.0], [6.0, 281806.0]] \n",
      "\n",
      "H2A0N1 FN\n",
      "P86964 FN\n",
      "P26226 FN\n",
      "Q9BQY6 FN\n",
      "P86963 FN\n",
      "O62247 FN\n",
      "D3GGZ8 FN\n",
      "Threshold: 1e-15 \n",
      "ACC: 0.9999751758965048 \n",
      "Matthews (MCC): 0.9801276931900882 \n",
      "TPR: 0.9606741573033708 \n",
      "FPR: 0.0 \n",
      "Positive pred val: 1.0 \n",
      "The Matrix (CM): [[171.0, 0.0], [7.0, 281806.0]] \n",
      "\n",
      "H2A0N1 FN\n",
      "P86964 FN\n",
      "B4ESA2 FN\n",
      "Q8AY46 FN\n",
      "G9I929 FN\n",
      "C0LNR2 FN\n",
      "Q2ES49 FN\n",
      "P26226 FN\n",
      "Q9BQY6 FN\n",
      "Threshold: 1e-16 \n",
      "ACC: 0.9999574443940081 \n",
      "Matthews (MCC): 0.9656834676007623 \n",
      "TPR: 0.9325842696629213 \n",
      "FPR: 0.0 \n",
      "Positive pred val: 1.0 \n",
      "The Matrix (CM): [[166.0, 0.0], [12.0, 281806.0]] \n",
      "\n",
      "H2A0N1 FN\n",
      "P86964 FN\n",
      "B4ESA2 FN\n",
      "Q8AY46 FN\n",
      "G9I929 FN\n",
      "C0LNR2 FN\n",
      "Q2ES49 FN\n",
      "P26226 FN\n",
      "Q9BQY6 FN\n",
      "Threshold: 1e-17 \n",
      "ACC: 0.9999574443940081 \n",
      "Matthews (MCC): 0.9656834676007623 \n",
      "TPR: 0.9325842696629213 \n",
      "FPR: 0.0 \n",
      "Positive pred val: 1.0 \n",
      "The Matrix (CM): [[166.0, 0.0], [12.0, 281806.0]] \n",
      "\n",
      "H2A0N1 FN\n",
      "P86964 FN\n",
      "Q75S50 FN\n",
      "D2Y2G0 FN\n",
      "P0DMW8 FN\n",
      "D2Y2G2 FN\n",
      "P0DJ68 FN\n",
      "B4ESA2 FN\n",
      "Q8AY46 FN\n",
      "Threshold: 1e-18 \n",
      "ACC: 0.9999397128915116 \n",
      "Matthews (MCC): 0.951020410674754 \n",
      "TPR: 0.9044943820224719 \n",
      "FPR: 0.0 \n",
      "Positive pred val: 1.0 \n",
      "The Matrix (CM): [[161.0, 0.0], [17.0, 281806.0]] \n",
      "\n",
      "P36992 FN\n",
      "H2A0N1 FN\n",
      "P86964 FN\n",
      "B5L5Q3 FN\n",
      "D2Y2Q6 FN\n",
      "D2Y2F3 FN\n",
      "D2Y2F7 FN\n",
      "P0DMW9 FN\n",
      "Q75S50 FN\n",
      "Threshold: 1e-19 \n",
      "ACC: 0.9999184350885156 \n",
      "Matthews (MCC): 0.9331213491106981 \n",
      "TPR: 0.8707865168539326 \n",
      "FPR: 0.0 \n",
      "Positive pred val: 1.0 \n",
      "The Matrix (CM): [[155.0, 0.0], [23.0, 281806.0]] \n",
      "\n"
     ]
    }
   ],
   "source": [
    "%%bash\n",
    "(cat both_r1.out training_r1_positive.out) > performance_r1.out \n",
    "python performance2.py performance_r1.out"
   ]
  },
  {
   "cell_type": "code",
   "execution_count": 2,
   "metadata": {},
   "outputs": [
    {
     "name": "stdout",
     "output_type": "stream",
     "text": [
      "P0DJ63 FP\n",
      "P83605 FP\n",
      "P85039 FP\n",
      "P85040 FP\n",
      "P56409 FP\n",
      "P0DM47 FP\n",
      "Q07498 FP\n",
      "P09759 FP\n",
      "Q8CBF3 FP\n",
      "Threshold: 1 \n",
      "ACC: 0.7215941330004539 \n",
      "Matthews (MCC): 0.04039804585826999 \n",
      "TPR: 1.0 \n",
      "FPR: 0.2785817193388359 \n",
      "Positive pred val: 0.002262213410604443 \n",
      "The Matrix (CM): [[178.0, 78506.0], [0.0, 203300.0]] \n",
      "\n",
      "P0DJ63 FP\n",
      "P83605 FP\n",
      "P85039 FP\n",
      "P85040 FP\n",
      "P56409 FP\n",
      "P0DM47 FP\n",
      "Q07498 FP\n",
      "P09759 FP\n",
      "Q8CBF3 FP\n",
      "Threshold: 0.1 \n",
      "ACC: 0.963536938266001 \n",
      "Matthews (MCC): 0.1280481040845699 \n",
      "TPR: 1.0 \n",
      "FPR: 0.036486093269838114 \n",
      "Positive pred val: 0.017017208413001913 \n",
      "The Matrix (CM): [[178.0, 10282.0], [0.0, 271524.0]] \n",
      "\n",
      "P0DJ63 FP\n",
      "P83605 FP\n",
      "P85039 FP\n",
      "P85040 FP\n",
      "P56409 FP\n",
      "P0DM47 FP\n",
      "Q07498 FP\n",
      "P09759 FP\n",
      "Q8CBF3 FP\n",
      "Threshold: 0.01 \n",
      "ACC: 0.9967622276441217 \n",
      "Matthews (MCC): 0.4032672617635113 \n",
      "TPR: 1.0 \n",
      "FPR: 0.003239817463077436 \n",
      "Positive pred val: 0.16315307057745188 \n",
      "The Matrix (CM): [[178.0, 913.0], [0.0, 280893.0]] \n",
      "\n",
      "P0DJ63 FP\n",
      "P83605 FP\n",
      "P85039 FP\n",
      "P85040 FP\n",
      "P56409 FP\n",
      "P0DM47 FP\n",
      "Q07498 FP\n",
      "P09759 FP\n",
      "Q8CBF3 FP\n",
      "Threshold: 0.001 \n",
      "ACC: 0.9997765830685429 \n",
      "Matthews (MCC): 0.8593160617921284 \n",
      "TPR: 1.0 \n",
      "FPR: 0.000223558050573799 \n",
      "Positive pred val: 0.7385892116182573 \n",
      "The Matrix (CM): [[178.0, 63.0], [0.0, 281743.0]] \n",
      "\n",
      "P0DJ63 FP\n",
      "P83605 FP\n",
      "P85039 FP\n",
      "P85040 FP\n",
      "P56409 FP\n",
      "P0DM47 FP\n",
      "Q07498 FP\n",
      "P09759 FP\n",
      "Q8CBF3 FP\n",
      "Threshold: 0.0001 \n",
      "ACC: 0.9999397128915116 \n",
      "Matthews (MCC): 0.9553875898038651 \n",
      "TPR: 1.0 \n",
      "FPR: 6.0325188250072746e-05 \n",
      "Positive pred val: 0.9128205128205128 \n",
      "The Matrix (CM): [[178.0, 17.0], [0.0, 281789.0]] \n",
      "\n",
      "P0DJ63 FP\n",
      "P83605 FP\n",
      "P85039 FP\n",
      "P85040 FP\n",
      "P56409 FP\n",
      "P0DM47 FP\n",
      "Threshold: 1e-05 \n",
      "ACC: 0.9999787221970041 \n",
      "Matthews (MCC): 0.9835500533193898 \n",
      "TPR: 1.0 \n",
      "FPR: 2.129124291179038e-05 \n",
      "Positive pred val: 0.967391304347826 \n",
      "The Matrix (CM): [[178.0, 6.0], [0.0, 281800.0]] \n",
      "\n",
      "P0DJ63 FP\n",
      "P83605 FP\n",
      "P85039 FP\n",
      "P85040 FP\n",
      "P56409 FP\n",
      "Threshold: 1e-06 \n",
      "ACC: 0.9999822684975034 \n",
      "Matthews (MCC): 0.986235437255871 \n",
      "TPR: 1.0 \n",
      "FPR: 1.7742702426491983e-05 \n",
      "Positive pred val: 0.9726775956284153 \n",
      "The Matrix (CM): [[178.0, 5.0], [0.0, 281801.0]] \n",
      "\n",
      "P0DJ63 FP\n",
      "P83605 FP\n",
      "P85039 FP\n",
      "Threshold: 1e-07 \n",
      "ACC: 0.999989361098502 \n",
      "Matthews (MCC): 0.991672801477357 \n",
      "TPR: 1.0 \n",
      "FPR: 1.064562145589519e-05 \n",
      "Positive pred val: 0.9834254143646409 \n",
      "The Matrix (CM): [[178.0, 3.0], [0.0, 281803.0]] \n",
      "\n",
      "Threshold: 1e-08 \n",
      "ACC: 1.0 \n",
      "Matthews (MCC): 1.0 \n",
      "TPR: 1.0 \n",
      "FPR: 0.0 \n",
      "Positive pred val: 1.0 \n",
      "The Matrix (CM): [[178.0, 0.0], [0.0, 281806.0]] \n",
      "\n",
      "Threshold: 1e-09 \n",
      "ACC: 1.0 \n",
      "Matthews (MCC): 1.0 \n",
      "TPR: 1.0 \n",
      "FPR: 0.0 \n",
      "Positive pred val: 1.0 \n",
      "The Matrix (CM): [[178.0, 0.0], [0.0, 281806.0]] \n",
      "\n",
      "Q11101 FN\n",
      "Threshold: 1e-10 \n",
      "ACC: 0.9999964536995006 \n",
      "Matthews (MCC): 0.9971852856312948 \n",
      "TPR: 0.9943820224719101 \n",
      "FPR: 0.0 \n",
      "Positive pred val: 1.0 \n",
      "The Matrix (CM): [[177.0, 0.0], [1.0, 281806.0]] \n",
      "\n",
      "Q11101 FN\n",
      "Threshold: 1e-11 \n",
      "ACC: 0.9999964536995006 \n",
      "Matthews (MCC): 0.9971852856312948 \n",
      "TPR: 0.9943820224719101 \n",
      "FPR: 0.0 \n",
      "Positive pred val: 1.0 \n",
      "The Matrix (CM): [[177.0, 0.0], [1.0, 281806.0]] \n",
      "\n",
      "Q11101 FN\n",
      "Threshold: 1e-12 \n",
      "ACC: 0.9999964536995006 \n",
      "Matthews (MCC): 0.9971852856312948 \n",
      "TPR: 0.9943820224719101 \n",
      "FPR: 0.0 \n",
      "Positive pred val: 1.0 \n",
      "The Matrix (CM): [[177.0, 0.0], [1.0, 281806.0]] \n",
      "\n",
      "P0CH75 FN\n",
      "Q11101 FN\n",
      "Threshold: 1e-13 \n",
      "ACC: 0.9999929073990014 \n",
      "Matthews (MCC): 0.994362623822484 \n",
      "TPR: 0.9887640449438202 \n",
      "FPR: 0.0 \n",
      "Positive pred val: 1.0 \n",
      "The Matrix (CM): [[176.0, 0.0], [2.0, 281806.0]] \n",
      "\n",
      "P0CAR0 FN\n",
      "P0CH75 FN\n",
      "Q11101 FN\n",
      "Threshold: 1e-14 \n",
      "ACC: 0.999989361098502 \n",
      "Matthews (MCC): 0.9915319466997918 \n",
      "TPR: 0.9831460674157303 \n",
      "FPR: 0.0 \n",
      "Positive pred val: 1.0 \n",
      "The Matrix (CM): [[175.0, 0.0], [3.0, 281806.0]] \n",
      "\n",
      "H2A0N5 FN\n",
      "P0CAR0 FN\n",
      "P0CH75 FN\n",
      "Q11101 FN\n",
      "Threshold: 1e-15 \n",
      "ACC: 0.9999858147980027 \n",
      "Matthews (MCC): 0.9886931854182947 \n",
      "TPR: 0.9775280898876404 \n",
      "FPR: 0.0 \n",
      "Positive pred val: 1.0 \n",
      "The Matrix (CM): [[174.0, 0.0], [4.0, 281806.0]] \n",
      "\n",
      "H2A0N5 FN\n",
      "Q7Z1K3 FN\n",
      "Q9W728 FN\n",
      "Q75S49 FN\n",
      "Q8IUA0 FN\n",
      "P00987 FN\n",
      "P0CAR0 FN\n",
      "P0CH75 FN\n",
      "Q11101 FN\n",
      "Threshold: 1e-16 \n",
      "ACC: 0.9999680832955061 \n",
      "Matthews (MCC): 0.9743756365675721 \n",
      "TPR: 0.949438202247191 \n",
      "FPR: 0.0 \n",
      "Positive pred val: 1.0 \n",
      "The Matrix (CM): [[169.0, 0.0], [9.0, 281806.0]] \n",
      "\n",
      "H2A0P0 FN\n",
      "H2A0N5 FN\n",
      "O73683 FN\n",
      "Q7Z1K3 FN\n",
      "Q9W728 FN\n",
      "Q75S49 FN\n",
      "Q8IUA0 FN\n",
      "P00987 FN\n",
      "P0CAR0 FN\n",
      "Threshold: 1e-17 \n",
      "ACC: 0.9999609906945075 \n",
      "Matthews (MCC): 0.9685895038070634 \n",
      "TPR: 0.9382022471910112 \n",
      "FPR: 0.0 \n",
      "Positive pred val: 1.0 \n",
      "The Matrix (CM): [[167.0, 0.0], [11.0, 281806.0]] \n",
      "\n",
      "H2A0P0 FN\n",
      "H2A0N5 FN\n",
      "Q6UDR6 FN\n",
      "P0DJ81 FN\n",
      "Q8AY44 FN\n",
      "Q1RPT0 FN\n",
      "P00989 FN\n",
      "Q8AY45 FN\n",
      "O73683 FN\n",
      "Threshold: 1e-18 \n",
      "ACC: 0.9999397128915116 \n",
      "Matthews (MCC): 0.951020410674754 \n",
      "TPR: 0.9044943820224719 \n",
      "FPR: 0.0 \n",
      "Positive pred val: 1.0 \n",
      "The Matrix (CM): [[161.0, 0.0], [17.0, 281806.0]] \n",
      "\n",
      "P02760 FN\n",
      "Q64240 FN\n",
      "H2A0P0 FN\n",
      "H2A0N5 FN\n",
      "Q2UY09 FN\n",
      "P0DJ64 FN\n",
      "D2Y2F9 FN\n",
      "P0DJ65 FN\n",
      "P0DJ73 FN\n",
      "Threshold: 1e-19 \n",
      "ACC: 0.9999148887880164 \n",
      "Matthews (MCC): 0.9301047594471908 \n",
      "TPR: 0.8651685393258427 \n",
      "FPR: 0.0 \n",
      "Positive pred val: 1.0 \n",
      "The Matrix (CM): [[154.0, 0.0], [24.0, 281806.0]] \n",
      "\n"
     ]
    }
   ],
   "source": [
    "%%bash\n",
    "(cat both_r2.out testing_r2_positive.out) > performance_r2.out \n",
    "python performance2.py performance_r2.out"
   ]
  },
  {
   "cell_type": "code",
   "execution_count": null,
   "metadata": {},
   "outputs": [],
   "source": []
  }
 ],
 "metadata": {
  "kernelspec": {
   "display_name": "Python 3",
   "language": "python",
   "name": "python3"
  },
  "language_info": {
   "codemirror_mode": {
    "name": "ipython",
    "version": 3
   },
   "file_extension": ".py",
   "mimetype": "text/x-python",
   "name": "python",
   "nbconvert_exporter": "python",
   "pygments_lexer": "ipython3",
   "version": "3.8.3"
  }
 },
 "nbformat": 4,
 "nbformat_minor": 4
}
